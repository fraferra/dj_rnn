{
 "cells": [
  {
   "cell_type": "code",
   "execution_count": 107,
   "metadata": {
    "collapsed": false
   },
   "outputs": [],
   "source": [
    "from bs4 import BeautifulSoup\n",
    "import urllib.request\n",
    "import glob\n",
    "\n",
    "def get_top_djs():\n",
    "    user_agent = 'Mozilla/5.0 (Windows; U; Windows NT 5.1; en-US; rv:1.9.0.7) Gecko/2009021910 Firefox/3.0.7'\n",
    "\n",
    "    url = \"http://thedjlist.com/djs/genre/house/\"\n",
    "    headers={'User-Agent':user_agent,} \n",
    "    \n",
    "    request=urllib.request.Request(url,None,headers) #The assembled request\n",
    "    response = urllib.request.urlopen(request)\n",
    "#r = urllib.request.urlopen(\"http://thedjlist.com/djs/genre/house/\").read()\n",
    "\n",
    "    soup = BeautifulSoup(response)\n",
    "    top_djs = [x.text.lower() for x in soup.contents[16].findAll(\"div\", { \"class\" : \"name-dj\" })]\n",
    "    url2 = \"https://en.wikipedia.org/wiki/List_of_house_music_artists\"\n",
    "    headers={'User-Agent':user_agent,} \n",
    "\n",
    "    request=urllib.request.Request(url2,None,headers) #The assembled request\n",
    "    response = urllib.request.urlopen(request)\n",
    "#r = urllib.request.urlopen(\"http://thedjlist.com/djs/genre/house/\").read()\n",
    "\n",
    "    soup = BeautifulSoup(response)\n",
    "    top_djs += list(filter(lambda a: a != -1, [x.get(\"title\",-1) for x in soup.contents[2].find_all('a')]))\n",
    "    augmented_top_djs = []\n",
    "    for dj in top_djs:\n",
    "        dj = dj.strip()\n",
    "        row = [\n",
    "            dj,\n",
    "            dj.replace(\" \", \"_\"),\n",
    "            dj.replace(\" \", \"-\"),\n",
    "            dj.replace(\" \", \"\"),\n",
    "        ]\n",
    "        augmented_top_djs += row\n",
    "    return augmented_top_djs"
   ]
  },
  {
   "cell_type": "code",
   "execution_count": 108,
   "metadata": {
    "collapsed": true
   },
   "outputs": [],
   "source": [
    "def extract_top_artists(top_artists, filename):\n",
    "    if 'Classical_Guitar_classicalguitarmidi.com_MIDIRip' in filename:\n",
    "        return False\n",
    "    for dj in top_artists:\n",
    "        if dj.lower() in filename.lower():\n",
    "            return True\n",
    "    return False"
   ]
  },
  {
   "cell_type": "code",
   "execution_count": 109,
   "metadata": {
    "collapsed": true
   },
   "outputs": [],
   "source": [
    "def get_midi_house_files(path):\n",
    "    filenames = (glob.glob(\"/*/*.mid\") \n",
    "             + glob.glob(\"midi_dataset/*/*.MID\") \n",
    "             + glob.glob(\"midi_dataset/*/*/*.mid\")\n",
    "             + glob.glob(\"midi_dataset/*/*/*.MID\"))\n",
    "    augmented_top_djs = get_top_djs()\n",
    "    reduced_files = filter(lambda a: extract_top_artists(augmented_top_djs, a),filenames)\n",
    "    return list(reduced_files)"
   ]
  },
  {
   "cell_type": "code",
   "execution_count": null,
   "metadata": {
    "collapsed": true
   },
   "outputs": [],
   "source": []
  }
 ],
 "metadata": {
  "kernelspec": {
   "display_name": "Python 3",
   "language": "python",
   "name": "python3"
  },
  "language_info": {
   "codemirror_mode": {
    "name": "ipython",
    "version": 3
   },
   "file_extension": ".py",
   "mimetype": "text/x-python",
   "name": "python",
   "nbconvert_exporter": "python",
   "pygments_lexer": "ipython3",
   "version": "3.5.2"
  }
 },
 "nbformat": 4,
 "nbformat_minor": 1
}
